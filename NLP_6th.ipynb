{
  "nbformat": 4,
  "nbformat_minor": 0,
  "metadata": {
    "colab": {
      "provenance": []
    },
    "kernelspec": {
      "name": "python3",
      "display_name": "Python 3"
    },
    "language_info": {
      "name": "python"
    }
  },
  "cells": [
    {
      "cell_type": "markdown",
      "source": [
        "#Amazon Product Review Sentiment Analysis using SVM and classification"
      ],
      "metadata": {
        "id": "9Y3J6jDMEqc7"
      }
    },
    {
      "cell_type": "markdown",
      "source": [
        "##Accuracy of the model: 91%"
      ],
      "metadata": {
        "id": "4r1K5CuJFXD7"
      }
    },
    {
      "cell_type": "code",
      "source": [
        "import pandas as pd\n",
        "from sklearn.model_selection import train_test_split\n",
        "from sklearn.feature_extraction.text import TfidfVectorizer\n",
        "from sklearn.svm import SVC\n",
        "from sklearn.metrics import classification_report, accuracy_score\n",
        "import nltk\n",
        "from nltk.corpus import stopwords\n",
        "from nltk.tokenize import word_tokenize\n",
        "from nltk.stem import WordNetLemmatizer\n",
        "from nltk import pos_tag\n",
        "nltk.download('stopwords')\n",
        "nltk.download('punkt')\n",
        "nltk.download('wordnet')\n",
        "nltk.download('averaged_perceptron_tagger')\n",
        "\n",
        "# Load the dataset\n",
        "df = pd.read_csv('https://raw.githubusercontent.com/pycaret/pycaret/master/datasets/amazon.csv')\n",
        "\n",
        "# Preprocessing\n",
        "stop_words = set(stopwords.words('english'))\n",
        "lemmatizer = WordNetLemmatizer()\n",
        "\n",
        "def preprocess_text(text):\n",
        "    # Tokenization\n",
        "    tokens = word_tokenize(text.lower())\n",
        "    # Part-of-speech tagging\n",
        "    tokens_pos = pos_tag(tokens)\n",
        "    # Removing stopwords and non-alphabetic tokens\n",
        "    tokens_filtered = [lemmatizer.lemmatize(token[0]) for token in tokens_pos if token[0].isalpha() and token[0] not in stop_words]\n",
        "    return ' '.join(tokens_filtered)\n",
        "\n",
        "# Apply preprocessing to the 'reviewText' column\n",
        "df['clean_text'] = df['reviewText'].apply(preprocess_text)\n",
        "\n",
        "# Split the data into training and testing sets\n",
        "X_train, X_test, y_train, y_test = train_test_split(df['clean_text'], df['Positive'], test_size=0.2, random_state=42)\n",
        "\n",
        "# Feature extraction using TF-IDF\n",
        "vectorizer = TfidfVectorizer(max_features=1000)\n",
        "X_train_vectorized = vectorizer.fit_transform(X_train)\n",
        "X_test_vectorized = vectorizer.transform(X_test)\n",
        "\n",
        "# Model training (SVM classifier)\n",
        "svm_classifier = SVC(kernel='linear')\n",
        "svm_classifier.fit(X_train_vectorized, y_train)\n",
        "\n",
        "# Predict sentiment on the testing set\n",
        "y_pred = svm_classifier.predict(X_test_vectorized)\n",
        "\n",
        "# Evaluate the classifier\n",
        "accuracy = accuracy_score(y_test, y_pred)\n",
        "print(\"Accuracy:\", accuracy)\n",
        "print(classification_report(y_test, y_pred))\n"
      ],
      "metadata": {
        "colab": {
          "base_uri": "https://localhost:8080/"
        },
        "id": "-0oslJt5Jew5",
        "outputId": "449fe46c-8f01-438c-b2cc-41162bd16f38"
      },
      "execution_count": 23,
      "outputs": [
        {
          "output_type": "stream",
          "name": "stderr",
          "text": [
            "[nltk_data] Downloading package stopwords to /root/nltk_data...\n",
            "[nltk_data]   Package stopwords is already up-to-date!\n",
            "[nltk_data] Downloading package punkt to /root/nltk_data...\n",
            "[nltk_data]   Package punkt is already up-to-date!\n",
            "[nltk_data] Downloading package wordnet to /root/nltk_data...\n",
            "[nltk_data]   Package wordnet is already up-to-date!\n",
            "[nltk_data] Downloading package averaged_perceptron_tagger to\n",
            "[nltk_data]     /root/nltk_data...\n",
            "[nltk_data]   Package averaged_perceptron_tagger is already up-to-\n",
            "[nltk_data]       date!\n"
          ]
        },
        {
          "output_type": "stream",
          "name": "stdout",
          "text": [
            "Accuracy: 0.88625\n",
            "              precision    recall  f1-score   support\n",
            "\n",
            "           0       0.81      0.69      0.74       958\n",
            "           1       0.91      0.95      0.93      3042\n",
            "\n",
            "    accuracy                           0.89      4000\n",
            "   macro avg       0.86      0.82      0.84      4000\n",
            "weighted avg       0.88      0.89      0.88      4000\n",
            "\n"
          ]
        }
      ]
    },
    {
      "cell_type": "markdown",
      "source": [
        "Word Frequency"
      ],
      "metadata": {
        "id": "21C_VkdML1eE"
      }
    },
    {
      "cell_type": "code",
      "source": [
        "from collections import Counter\n",
        "\n",
        "#separate positive and negative reviews\n",
        "positive_reviews = df[df['Positive'] == 1]['clean_text']\n",
        "negative_reviews = df[df['Positive'] == 0]['clean_text']\n",
        "\n",
        "#Tokenize the text of each review\n",
        "positive_words = ' '.join(positive_reviews).split()\n",
        "negative_words = ' '.join(negative_reviews).split()\n",
        "\n",
        "#count the occurrence of each word in positive and negative reviews\n",
        "positive_word_freq = Counter(positive_words)\n",
        "negative_word_freq = Counter(negative_words)\n",
        "\n",
        "#print the most common words in positive reviews\n",
        "print(\"Most common words in positive reviews:\")\n",
        "print(positive_word_freq.most_common(10))\n",
        "\n",
        "#Print the most common words in negative reviews\n",
        "print(\"\\nMost common words in negative reviews:\")\n",
        "print(negative_word_freq.most_common(10))\n"
      ],
      "metadata": {
        "colab": {
          "base_uri": "https://localhost:8080/"
        },
        "id": "mS32R3HCKmMl",
        "outputId": "0c895032-0f83-463e-ed64-dda35c0c7edd"
      },
      "execution_count": 26,
      "outputs": [
        {
          "output_type": "stream",
          "name": "stdout",
          "text": [
            "Most common words in positive reviews:\n",
            "[('app', 8075), ('game', 5236), ('love', 4148), ('great', 3870), ('like', 3185), ('use', 2889), ('get', 2364), ('fun', 2361), ('one', 2269), ('kindle', 2171)]\n",
            "\n",
            "Most common words in negative reviews:\n",
            "[('app', 2687), ('game', 1553), ('get', 1117), ('would', 881), ('like', 841), ('time', 834), ('kindle', 733), ('work', 717), ('even', 665), ('one', 558)]\n"
          ]
        }
      ]
    },
    {
      "cell_type": "markdown",
      "source": [
        "Plot"
      ],
      "metadata": {
        "id": "OpeO81NNL6HL"
      }
    },
    {
      "cell_type": "code",
      "source": [
        "from sklearn.metrics import confusion_matrix\n",
        "import seaborn as sns\n",
        "import matplotlib.pyplot as plt\n",
        "#confusion matrix object\n",
        "conf_matrix = confusion_matrix(y_test, y_pred)\n",
        "\n",
        "plt.figure(figsize=(8, 6))\n",
        "sns.heatmap(conf_matrix, annot=True, fmt=\"d\", cmap=\"Reds\", xticklabels=['Negative', 'Positive'], yticklabels=['Negative', 'Positive'])\n",
        "plt.xlabel('Predicted')\n",
        "plt.ylabel('Actual')\n",
        "plt.title('Confusion Matrix')\n",
        "plt.show()\n"
      ],
      "metadata": {
        "colab": {
          "base_uri": "https://localhost:8080/",
          "height": 564
        },
        "id": "S8J6I4qlLML4",
        "outputId": "6141f120-d421-4ac3-d8c8-541bfd5146de"
      },
      "execution_count": 27,
      "outputs": [
        {
          "output_type": "display_data",
          "data": {
            "text/plain": [
              "<Figure size 800x600 with 2 Axes>"
            ],
            "image/png": "[encoded data removed]"
          },
          "metadata": {}
        }
      ]
    }
  ]
}